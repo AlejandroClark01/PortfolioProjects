{
 "cells": [
  {
   "cell_type": "markdown",
   "metadata": {},
   "source": [
    "<p style=\"text-align:center\">\n",
    "    <a href=\"https://skills.network/?utm_medium=Exinfluencer&utm_source=Exinfluencer&utm_content=000026UJ&utm_term=10006555&utm_id=NA-SkillsNetwork-Channel-SkillsNetworkCoursesIBMDeveloperSkillsNetworkPY0221ENSkillsNetwork23455645-2022-01-01\" target=\"_blank\">\n",
    "    <img src=\"https://cf-courses-data.s3.us.cloud-object-storage.appdomain.cloud/assets/logos/SN_web_lightmode.png\" width=\"200\" alt=\"Skills Network Logo\"  />\n",
    "    </a>\n",
    "</p>\n"
   ]
  },
  {
   "cell_type": "markdown",
   "metadata": {},
   "source": [
    "# Peer Review Assignment - Data Engineer - Extract API Data\n"
   ]
  },
  {
   "cell_type": "markdown",
   "metadata": {},
   "source": [
    "Estimated time needed: **20** minutes\n"
   ]
  },
  {
   "cell_type": "markdown",
   "metadata": {},
   "source": [
    "## Objectives\n",
    "\n",
    "In this part you will:\n",
    "\n",
    "*   Collect exchange rate data using an API\n",
    "*   Store the data as a CSV\n"
   ]
  },
  {
   "cell_type": "markdown",
   "metadata": {},
   "source": [
    "For this lab, we are going to be using Python and several Python libraries. Some of these libraries might be installed in your lab environment or in SN Labs. Others may need to be installed by you. The cells below will install these libraries when executed.\n"
   ]
  },
  {
   "cell_type": "code",
   "execution_count": null,
   "metadata": {},
   "outputs": [],
   "source": [
    "#!mamba install pandas==1.3.3 -y\n",
    "#!mamba install requests==2.26.0 -y"
   ]
  },
  {
   "cell_type": "markdown",
   "metadata": {},
   "source": [
    "## Imports\n",
    "\n",
    "Import any additional libraries you may need here.\n"
   ]
  },
  {
   "cell_type": "code",
   "execution_count": 1,
   "metadata": {},
   "outputs": [],
   "source": [
    "import requests\n",
    "import pandas as pd"
   ]
  },
  {
   "cell_type": "markdown",
   "metadata": {},
   "source": [
    "## Extract Data Using an API\n"
   ]
  },
  {
   "cell_type": "markdown",
   "metadata": {},
   "source": [
    "Using ExchangeRate-API we will extract currency exchange rate data. Use the below steps to get the access key and to get the data.\n",
    "\n",
    "1.  Open the url : [https://exchangeratesapi.io/](https://exchangeratesapi.io/?utm_medium=Exinfluencer&utm_source=Exinfluencer&utm_content=000026UJ&utm_term=10006555&utm_id=NA-SkillsNetwork-Channel-SkillsNetworkCoursesIBMDeveloperSkillsNetworkPY0221ENSkillsNetwork23455645-2022-01-01) and click on **Get Free API Key**.\n",
    "2.  Subscribe for Free plan and Sign-in with the Google Account.\n",
    "3.  Once the account is created you will be redirected to [https://apilayer.com](https://apilayer.com/?utm_medium=Exinfluencer&utm_source=Exinfluencer&utm_content=000026UJ&utm_term=10006555&utm_id=NA-SkillsNetwork-Channel-SkillsNetworkCoursesIBMDeveloperSkillsNetworkPY0221ENSkillsNetwork23455645-2022-01-01) website.\n",
    "4.  Now, click on the **user icon** and click **Account** as shown below:\n",
    "\n",
    "<img src=\"https://cf-courses-data.s3.us.cloud-object-storage.appdomain.cloud/IBMDeveloperSkillsNetwork-PY0221EN-SkillsNetwork/labs/module%206/Final%20Assignment/Images/account.png\"/>\n",
    "\n",
    "3.  Scroll down and you will get the API Key section. Copy the API key and use in the url in Question 1.\n"
   ]
  },
  {
   "cell_type": "markdown",
   "metadata": {},
   "source": [
    "### Call the API\n",
    "\n",
    "<b> Question 1</b> Using the `requests` library call the endpoint given above and save the text, remember the first few characters of the output:\n"
   ]
  },
  {
   "cell_type": "code",
   "execution_count": 4,
   "metadata": {},
   "outputs": [
    {
     "data": {
      "text/plain": [
       "{'success': True,\n",
       " 'timestamp': 1678860243,\n",
       " 'base': 'EUR',\n",
       " 'date': '2023-03-15',\n",
       " 'rates': {'AED': 3.944329,\n",
       "  'AFN': 94.633165,\n",
       "  'ALL': 114.062682,\n",
       "  'AMD': 417.226964,\n",
       "  'ANG': 1.932651,\n",
       "  'AOA': 545.017759,\n",
       "  'ARS': 217.043816,\n",
       "  'AUD': 1.607049,\n",
       "  'AWG': 1.935758,\n",
       "  'AZN': 1.826926,\n",
       "  'BAM': 1.955926,\n",
       "  'BBD': 2.165161,\n",
       "  'BDT': 113.217317,\n",
       "  'BGN': 1.95533,\n",
       "  'BHD': 0.404836,\n",
       "  'BIF': 2229.689429,\n",
       "  'BMD': 1.073929,\n",
       "  'BND': 1.442387,\n",
       "  'BOB': 7.409479,\n",
       "  'BRL': 5.641673,\n",
       "  'BSD': 1.072344,\n",
       "  'BTC': 4.3301254e-05,\n",
       "  'BTN': 88.423414,\n",
       "  'BWP': 14.146836,\n",
       "  'BYN': 2.706626,\n",
       "  'BYR': 21049.016305,\n",
       "  'BZD': 2.16146,\n",
       "  'CAD': 1.469973,\n",
       "  'CDF': 2201.554923,\n",
       "  'CHF': 0.98169,\n",
       "  'CLF': 0.031239,\n",
       "  'CLP': 861.989499,\n",
       "  'CNY': 7.393361,\n",
       "  'COP': 5095.365447,\n",
       "  'CRC': 585.070498,\n",
       "  'CUC': 1.073929,\n",
       "  'CUP': 28.459129,\n",
       "  'CVE': 110.277127,\n",
       "  'CZK': 23.773151,\n",
       "  'DJF': 190.933007,\n",
       "  'DKK': 7.446315,\n",
       "  'DOP': 58.977106,\n",
       "  'DZD': 145.95345,\n",
       "  'EGP': 33.18356,\n",
       "  'ERN': 16.108941,\n",
       "  'ETB': 57.723955,\n",
       "  'EUR': 1,\n",
       "  'FJD': 2.379186,\n",
       "  'FKP': 0.883467,\n",
       "  'GBP': 0.883371,\n",
       "  'GEL': 2.781554,\n",
       "  'GGP': 0.883467,\n",
       "  'GHS': 13.188852,\n",
       "  'GIP': 0.883467,\n",
       "  'GMD': 66.04644,\n",
       "  'GNF': 9232.284381,\n",
       "  'GTQ': 8.35854,\n",
       "  'GYD': 226.244621,\n",
       "  'HKD': 8.429954,\n",
       "  'HNL': 26.447187,\n",
       "  'HRK': 7.537131,\n",
       "  'HTG': 165.141436,\n",
       "  'HUF': 389.10639,\n",
       "  'IDR': 16509.838896,\n",
       "  'ILS': 3.884829,\n",
       "  'IMP': 0.883467,\n",
       "  'INR': 88.558375,\n",
       "  'IQD': 1565.015713,\n",
       "  'IRR': 45373.517059,\n",
       "  'ISK': 150.296568,\n",
       "  'JEP': 0.883467,\n",
       "  'JMD': 163.40969,\n",
       "  'JOD': 0.761839,\n",
       "  'JPY': 144.570241,\n",
       "  'KES': 139.285313,\n",
       "  'KGS': 93.8828,\n",
       "  'KHR': 4341.563564,\n",
       "  'KMF': 493.472741,\n",
       "  'KPW': 966.40946,\n",
       "  'KRW': 1399.142095,\n",
       "  'KWD': 0.32931,\n",
       "  'KYD': 0.893566,\n",
       "  'KZT': 494.621177,\n",
       "  'LAK': 18104.181467,\n",
       "  'LBP': 16226.890805,\n",
       "  'LKR': 364.613934,\n",
       "  'LRD': 172.634301,\n",
       "  'LSL': 19.524302,\n",
       "  'LTL': 3.171035,\n",
       "  'LVL': 0.649609,\n",
       "  'LYD': 5.155621,\n",
       "  'MAD': 11.181323,\n",
       "  'MDL': 20.00441,\n",
       "  'MGA': 4601.597319,\n",
       "  'MKD': 61.618982,\n",
       "  'MMK': 2251.902797,\n",
       "  'MNT': 3800.227713,\n",
       "  'MOP': 8.667041,\n",
       "  'MRO': 383.392612,\n",
       "  'MUR': 50.635419,\n",
       "  'MVR': 16.523981,\n",
       "  'MWK': 1123.245805,\n",
       "  'MXN': 20.038138,\n",
       "  'MYR': 4.803659,\n",
       "  'MZN': 67.777152,\n",
       "  'NAD': 19.524158,\n",
       "  'NGN': 494.576424,\n",
       "  'NIO': 39.225457,\n",
       "  'NOK': 11.323221,\n",
       "  'NPR': 141.485048,\n",
       "  'NZD': 1.727313,\n",
       "  'OMR': 0.4134,\n",
       "  'PAB': 1.072269,\n",
       "  'PEN': 4.072263,\n",
       "  'PGK': 3.779526,\n",
       "  'PHP': 58.989329,\n",
       "  'PKR': 302.65365,\n",
       "  'PLN': 4.705953,\n",
       "  'PYG': 7707.928768,\n",
       "  'QAR': 3.910235,\n",
       "  'RON': 4.923279,\n",
       "  'RSD': 117.299961,\n",
       "  'RUB': 80.985266,\n",
       "  'RWF': 1171.241129,\n",
       "  'SAR': 4.033252,\n",
       "  'SBD': 8.842669,\n",
       "  'SCR': 14.314726,\n",
       "  'SDG': 638.436014,\n",
       "  'SEK': 11.236297,\n",
       "  'SGD': 1.441857,\n",
       "  'SHP': 1.306704,\n",
       "  'SLE': 22.25066,\n",
       "  'SLL': 21210.106196,\n",
       "  'SOS': 611.603994,\n",
       "  'SRD': 37.362343,\n",
       "  'STD': 22228.170394,\n",
       "  'SVC': 9.382694,\n",
       "  'SYP': 2697.448085,\n",
       "  'SZL': 19.495168,\n",
       "  'THB': 37.041943,\n",
       "  'TJS': 11.709157,\n",
       "  'TMT': 3.758753,\n",
       "  'TND': 3.334579,\n",
       "  'TOP': 2.527332,\n",
       "  'TRY': 20.390902,\n",
       "  'TTD': 7.278809,\n",
       "  'TWD': 32.852042,\n",
       "  'TZS': 2512.994682,\n",
       "  'UAH': 39.410016,\n",
       "  'UGX': 4010.259165,\n",
       "  'USD': 1.073929,\n",
       "  'UYU': 42.112722,\n",
       "  'UZS': 12272.793137,\n",
       "  'VEF': 2587024.884157,\n",
       "  'VES': 25.742409,\n",
       "  'VND': 25333.994625,\n",
       "  'VUV': 128.662542,\n",
       "  'WST': 2.957824,\n",
       "  'XAF': 656.079054,\n",
       "  'XAG': 0.04941,\n",
       "  'XAU': 0.000565,\n",
       "  'XCD': 2.902348,\n",
       "  'XDR': 0.808005,\n",
       "  'XOF': 656.079054,\n",
       "  'XPF': 119.979337,\n",
       "  'YER': 268.804675,\n",
       "  'ZAR': 19.480755,\n",
       "  'ZMK': 9666.65376,\n",
       "  'ZMW': 21.773624,\n",
       "  'ZWL': 345.80483}}"
      ]
     },
     "execution_count": 4,
     "metadata": {},
     "output_type": "execute_result"
    }
   ],
   "source": [
    "# Write your code here\n",
    "url = \"https://api.apilayer.com/exchangerates_data/latest?base=EUR&apikey=3ChRavsYhQK7DJIT17N5kE7tzyHXvdCy\"\n",
    "datapi = requests.get(url)\n",
    "datapi.json()"
   ]
  },
  {
   "cell_type": "markdown",
   "metadata": {},
   "source": [
    "### Save as DataFrame\n",
    "\n",
    "<b> Question 2</b>  Using the data gathered turn it into a `pandas` dataframe. The dataframe should have the Currency as the index and `Rate` as their columns. Make sure to drop unnecessary columns.\n"
   ]
  },
  {
   "cell_type": "code",
   "execution_count": 9,
   "metadata": {},
   "outputs": [
    {
     "data": {
      "text/html": [
       "<div>\n",
       "<style scoped>\n",
       "    .dataframe tbody tr th:only-of-type {\n",
       "        vertical-align: middle;\n",
       "    }\n",
       "\n",
       "    .dataframe tbody tr th {\n",
       "        vertical-align: top;\n",
       "    }\n",
       "\n",
       "    .dataframe thead th {\n",
       "        text-align: right;\n",
       "    }\n",
       "</style>\n",
       "<table border=\"1\" class=\"dataframe\">\n",
       "  <thead>\n",
       "    <tr style=\"text-align: right;\">\n",
       "      <th></th>\n",
       "      <th>success</th>\n",
       "      <th>timestamp</th>\n",
       "      <th>base</th>\n",
       "      <th>date</th>\n",
       "      <th>rates</th>\n",
       "    </tr>\n",
       "  </thead>\n",
       "  <tbody>\n",
       "    <tr>\n",
       "      <th>AED</th>\n",
       "      <td>True</td>\n",
       "      <td>1678860243</td>\n",
       "      <td>EUR</td>\n",
       "      <td>2023-03-15</td>\n",
       "      <td>3.944329</td>\n",
       "    </tr>\n",
       "    <tr>\n",
       "      <th>AFN</th>\n",
       "      <td>True</td>\n",
       "      <td>1678860243</td>\n",
       "      <td>EUR</td>\n",
       "      <td>2023-03-15</td>\n",
       "      <td>94.633165</td>\n",
       "    </tr>\n",
       "    <tr>\n",
       "      <th>ALL</th>\n",
       "      <td>True</td>\n",
       "      <td>1678860243</td>\n",
       "      <td>EUR</td>\n",
       "      <td>2023-03-15</td>\n",
       "      <td>114.062682</td>\n",
       "    </tr>\n",
       "    <tr>\n",
       "      <th>AMD</th>\n",
       "      <td>True</td>\n",
       "      <td>1678860243</td>\n",
       "      <td>EUR</td>\n",
       "      <td>2023-03-15</td>\n",
       "      <td>417.226964</td>\n",
       "    </tr>\n",
       "    <tr>\n",
       "      <th>ANG</th>\n",
       "      <td>True</td>\n",
       "      <td>1678860243</td>\n",
       "      <td>EUR</td>\n",
       "      <td>2023-03-15</td>\n",
       "      <td>1.932651</td>\n",
       "    </tr>\n",
       "    <tr>\n",
       "      <th>...</th>\n",
       "      <td>...</td>\n",
       "      <td>...</td>\n",
       "      <td>...</td>\n",
       "      <td>...</td>\n",
       "      <td>...</td>\n",
       "    </tr>\n",
       "    <tr>\n",
       "      <th>YER</th>\n",
       "      <td>True</td>\n",
       "      <td>1678860243</td>\n",
       "      <td>EUR</td>\n",
       "      <td>2023-03-15</td>\n",
       "      <td>268.804675</td>\n",
       "    </tr>\n",
       "    <tr>\n",
       "      <th>ZAR</th>\n",
       "      <td>True</td>\n",
       "      <td>1678860243</td>\n",
       "      <td>EUR</td>\n",
       "      <td>2023-03-15</td>\n",
       "      <td>19.480755</td>\n",
       "    </tr>\n",
       "    <tr>\n",
       "      <th>ZMK</th>\n",
       "      <td>True</td>\n",
       "      <td>1678860243</td>\n",
       "      <td>EUR</td>\n",
       "      <td>2023-03-15</td>\n",
       "      <td>9666.653760</td>\n",
       "    </tr>\n",
       "    <tr>\n",
       "      <th>ZMW</th>\n",
       "      <td>True</td>\n",
       "      <td>1678860243</td>\n",
       "      <td>EUR</td>\n",
       "      <td>2023-03-15</td>\n",
       "      <td>21.773624</td>\n",
       "    </tr>\n",
       "    <tr>\n",
       "      <th>ZWL</th>\n",
       "      <td>True</td>\n",
       "      <td>1678860243</td>\n",
       "      <td>EUR</td>\n",
       "      <td>2023-03-15</td>\n",
       "      <td>345.804830</td>\n",
       "    </tr>\n",
       "  </tbody>\n",
       "</table>\n",
       "<p>170 rows × 5 columns</p>\n",
       "</div>"
      ],
      "text/plain": [
       "     success   timestamp base        date        rates\n",
       "AED     True  1678860243  EUR  2023-03-15     3.944329\n",
       "AFN     True  1678860243  EUR  2023-03-15    94.633165\n",
       "ALL     True  1678860243  EUR  2023-03-15   114.062682\n",
       "AMD     True  1678860243  EUR  2023-03-15   417.226964\n",
       "ANG     True  1678860243  EUR  2023-03-15     1.932651\n",
       "..       ...         ...  ...         ...          ...\n",
       "YER     True  1678860243  EUR  2023-03-15   268.804675\n",
       "ZAR     True  1678860243  EUR  2023-03-15    19.480755\n",
       "ZMK     True  1678860243  EUR  2023-03-15  9666.653760\n",
       "ZMW     True  1678860243  EUR  2023-03-15    21.773624\n",
       "ZWL     True  1678860243  EUR  2023-03-15   345.804830\n",
       "\n",
       "[170 rows x 5 columns]"
      ]
     },
     "execution_count": 9,
     "metadata": {},
     "output_type": "execute_result"
    }
   ],
   "source": [
    "# Turn the data into a dataframe\n",
    "dataframe = pd.DataFrame(datapi.json())\n",
    "dataframe"
   ]
  },
  {
   "cell_type": "code",
   "execution_count": 10,
   "metadata": {},
   "outputs": [
    {
     "data": {
      "text/html": [
       "<div>\n",
       "<style scoped>\n",
       "    .dataframe tbody tr th:only-of-type {\n",
       "        vertical-align: middle;\n",
       "    }\n",
       "\n",
       "    .dataframe tbody tr th {\n",
       "        vertical-align: top;\n",
       "    }\n",
       "\n",
       "    .dataframe thead th {\n",
       "        text-align: right;\n",
       "    }\n",
       "</style>\n",
       "<table border=\"1\" class=\"dataframe\">\n",
       "  <thead>\n",
       "    <tr style=\"text-align: right;\">\n",
       "      <th></th>\n",
       "      <th>rates</th>\n",
       "    </tr>\n",
       "  </thead>\n",
       "  <tbody>\n",
       "    <tr>\n",
       "      <th>AED</th>\n",
       "      <td>3.944329</td>\n",
       "    </tr>\n",
       "    <tr>\n",
       "      <th>AFN</th>\n",
       "      <td>94.633165</td>\n",
       "    </tr>\n",
       "    <tr>\n",
       "      <th>ALL</th>\n",
       "      <td>114.062682</td>\n",
       "    </tr>\n",
       "    <tr>\n",
       "      <th>AMD</th>\n",
       "      <td>417.226964</td>\n",
       "    </tr>\n",
       "    <tr>\n",
       "      <th>ANG</th>\n",
       "      <td>1.932651</td>\n",
       "    </tr>\n",
       "    <tr>\n",
       "      <th>...</th>\n",
       "      <td>...</td>\n",
       "    </tr>\n",
       "    <tr>\n",
       "      <th>YER</th>\n",
       "      <td>268.804675</td>\n",
       "    </tr>\n",
       "    <tr>\n",
       "      <th>ZAR</th>\n",
       "      <td>19.480755</td>\n",
       "    </tr>\n",
       "    <tr>\n",
       "      <th>ZMK</th>\n",
       "      <td>9666.653760</td>\n",
       "    </tr>\n",
       "    <tr>\n",
       "      <th>ZMW</th>\n",
       "      <td>21.773624</td>\n",
       "    </tr>\n",
       "    <tr>\n",
       "      <th>ZWL</th>\n",
       "      <td>345.804830</td>\n",
       "    </tr>\n",
       "  </tbody>\n",
       "</table>\n",
       "<p>170 rows × 1 columns</p>\n",
       "</div>"
      ],
      "text/plain": [
       "           rates\n",
       "AED     3.944329\n",
       "AFN    94.633165\n",
       "ALL   114.062682\n",
       "AMD   417.226964\n",
       "ANG     1.932651\n",
       "..           ...\n",
       "YER   268.804675\n",
       "ZAR    19.480755\n",
       "ZMK  9666.653760\n",
       "ZMW    21.773624\n",
       "ZWL   345.804830\n",
       "\n",
       "[170 rows x 1 columns]"
      ]
     },
     "execution_count": 10,
     "metadata": {},
     "output_type": "execute_result"
    }
   ],
   "source": [
    "# Drop unnescessary columns\n",
    "dataframe.drop(columns=[\"success\", \"timestamp\", \"base\", \"date\"], inplace=True)\n",
    "dataframe"
   ]
  },
  {
   "cell_type": "markdown",
   "metadata": {},
   "source": [
    "### Load the Data\n",
    "\n",
    "Using the dataframe save it as a CSV names `exchange_rates_1.csv`.\n"
   ]
  },
  {
   "cell_type": "code",
   "execution_count": 11,
   "metadata": {},
   "outputs": [],
   "source": [
    "# Save the Dataframe\n",
    "dataframe.to_csv('exchange_rates_1.csv')"
   ]
  },
  {
   "cell_type": "markdown",
   "metadata": {},
   "source": [
    "Your CSV should be in this format with more currencies\n",
    "\n",
    "|     | Rates      |\n",
    "| --- | ---------- |\n",
    "| AED | 4.398618   |\n",
    "| AFN | 92.917693  |\n",
    "| ALL | 123.099093 |\n",
    "| AMD | 621.935674 |\n",
    "| ANG | 2.149648   |\n"
   ]
  },
  {
   "cell_type": "markdown",
   "metadata": {},
   "source": [
    "## Authors\n"
   ]
  },
  {
   "cell_type": "markdown",
   "metadata": {},
   "source": [
    "Ramesh Sannareddy, Joseph Santarcangelo and Azim Hirjani\n"
   ]
  },
  {
   "cell_type": "markdown",
   "metadata": {},
   "source": [
    "### Other Contributors\n"
   ]
  },
  {
   "cell_type": "markdown",
   "metadata": {},
   "source": [
    "Rav Ahuja\n"
   ]
  },
  {
   "cell_type": "markdown",
   "metadata": {},
   "source": [
    "## Change Log\n"
   ]
  },
  {
   "cell_type": "markdown",
   "metadata": {},
   "source": [
    "| Date (YYYY-MM-DD) | Version | Changed By        | Change Description                              |\n",
    "| ----------------- | ------- | ----------------- | ----------------------------------------------- |\n",
    "| 2022-05-06        | 0.3     | Malika            | Updated instructions to get the API and the url |\n",
    "| 2021-04-15        | 0.2     | Malika            | Updated the lab from USD to EUR                 |\n",
    "| 2020-11-25        | 0.1     | Ramesh Sannareddy | Created initial version of the lab              |\n"
   ]
  },
  {
   "cell_type": "markdown",
   "metadata": {},
   "source": [
    "Copyright © 2020 IBM Corporation. This notebook and its source code are released under the terms of the [MIT License](https://cognitiveclass.ai/mit-license?utm_medium=Exinfluencer&utm_source=Exinfluencer&utm_content=000026UJ&utm_term=10006555&utm_id=NA-SkillsNetwork-Channel-SkillsNetworkCoursesIBMDeveloperSkillsNetworkPY0221ENSkillsNetwork23455645-2022-01-01&cm_mmc=Email_Newsletter-\\_-Developer_Ed%2BTech-\\_-WW_WW-\\_-SkillsNetwork-Courses-IBM-DA0321EN-SkillsNetwork-21426264&cm_mmca1=000026UJ&cm_mmca2=10006555&cm_mmca3=M12345678&cvosrc=email.Newsletter.M12345678&cvo_campaign=000026UJ).\n"
   ]
  }
 ],
 "metadata": {
  "kernelspec": {
   "display_name": "Python",
   "language": "python",
   "name": "conda-env-python-py"
  },
  "language_info": {
   "codemirror_mode": {
    "name": "ipython",
    "version": 3
   },
   "file_extension": ".py",
   "mimetype": "text/x-python",
   "name": "python",
   "nbconvert_exporter": "python",
   "pygments_lexer": "ipython3",
   "version": "3.7.12"
  }
 },
 "nbformat": 4,
 "nbformat_minor": 4
}
